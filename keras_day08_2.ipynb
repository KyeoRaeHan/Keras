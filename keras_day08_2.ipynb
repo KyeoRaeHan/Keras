{
 "cells": [
  {
   "cell_type": "code",
   "execution_count": null,
   "metadata": {},
   "outputs": [],
   "source": [
    "from keras.datasets import cifar10\n",
    "from keras.models import Sequential\n",
    "from keras.layers import Conv2D, Dense, Flatten, MaxPooling2D, LSTM, Reshape\n",
    "from keras.callbacks import EarlyStopping\n",
    "\n",
    "import numpy as np\n",
    "\n",
    "\n",
    "#1. 데이터 전처리\n",
    "(x_train, y_train), (x_test, y_test) = cifar10.load_data()\n",
    "\n",
    "print(x_train.shape)\n",
    "print(y_train.shape)\n",
    "\n",
    "x_train = np.reshape(x_train, (x_train.shape[0], x_train.shape[1] * x_train.shape[2] * x_train.shape[3]))\n",
    "x_test = np.reshape(x_test, (x_test.shape[0], x_test.shape[1] * x_test.shape[2]* x_test.shape[3]))\n",
    "\n",
    "from keras.utils import np_utils\n",
    "y_train = np_utils.to_categorical(y_train)  \n",
    "x_test = np_utils.to_categorical(y_test)\n",
    "\n",
    "\n",
    "#2. 모델구성\n",
    "model  = Sequential()\n",
    "model.add(Dense(32, input_shape= (3072,)))\n",
    "model.add(Dense(16))\n",
    "model.add(Dense(8))\n",
    "model.add(Dense(16))\n",
    "model.add(Dense(10, activation = 'softmax')) \n",
    "\n",
    "model.summary()\n",
    "\n",
    "#3. 모델 훈련\n",
    "model.compile(loss='categorical_crossentropy', optimizer='adam', metrics=['accuracy'])\n",
    "early_stopping = EarlyStopping(monitor='loss', patience=10)\n",
    "model.fit(x_train, y_train, validation_split=0.2, epochs=20, batch_size=2, verbose=1, callbacks=[early_stopping])\n",
    "\n",
    "acc = model.evaluate(x_test, y_test)\n",
    "\n",
    "print(acc)"
   ]
  }
 ],
 "metadata": {
  "kernelspec": {
   "display_name": "Python 3",
   "language": "python",
   "name": "python3"
  },
  "language_info": {
   "codemirror_mode": {
    "name": "ipython",
    "version": 3
   },
   "file_extension": ".py",
   "mimetype": "text/x-python",
   "name": "python",
   "nbconvert_exporter": "python",
   "pygments_lexer": "ipython3",
   "version": "3.7.3"
  }
 },
 "nbformat": 4,
 "nbformat_minor": 2
}
