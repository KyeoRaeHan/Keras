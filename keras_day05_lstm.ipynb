{
 "cells": [
  {
   "cell_type": "code",
   "execution_count": null,
   "metadata": {},
   "outputs": [],
   "source": [
    "from numpy import array\n",
    "import numpy as np\n",
    "from keras.models import Sequential\n",
    "from keras.layers import Dense, LSTM\n",
    "\n",
    "\n",
    "#1. 데이터 전처리\n",
    "x = array([[1,2,3],[2,3,4], [3,4,5], [4,5,6], [5,6,7], [6,7,8], [7,8,9], [8,9,10], [9,10,11], [10,11,12], \n",
    "     [20,30,40],[30,40,50], [40,50,60]])\n",
    "\n",
    "y  = array([4,5,6,7,8,9,10,11,12,13,50,60,70])\n",
    "\n",
    "x1 = x.reshape(x.shape[0], x.shape[1], 1) \n",
    "\n",
    "\n",
    "#2. 모델구성\n",
    "model = Sequential()\n",
    "model.add(LSTM(10, activation='relu', input_shape=(3,1), return_sequences=True))\n",
    "model.add(LSTM(2, activation = 'relu', return_sequences=True))\n",
    "model.add(LSTM(3, activation = 'relu', return_sequences=True))\n",
    "model.add(LSTM(4, activation = 'relu', return_sequences=True))\n",
    "model.add(LSTM(5, activation = 'relu', return_sequences=True))\n",
    "model.add(LSTM(6, activation = 'relu', return_sequences=True))\n",
    "model.add(LSTM(7, activation = 'relu', return_sequences=True))\n",
    "model.add(LSTM(8, activation = 'relu', return_sequences=True))\n",
    "model.add(LSTM(9, activation = 'relu', return_sequences=True))\n",
    "model.add(LSTM(10, activation = 'relu', return_sequences=False))\n",
    "model.add(Dense(5, activation = 'linear')) #활성화함수의 default값은 linear,  linear = 일차함수 = y=wx+b\n",
    "model.add(Dense(1))\n",
    "\n",
    "\n",
    "#3. 모델훈련(컴파일)\n",
    "model.compile(loss = 'mse', optimizer = 'adam', metrics = ['acc']) \n",
    "\n",
    "from keras.callbacks import EarlyStopping\n",
    "early_stopping = EarlyStopping(monitor='loss', patience=30, mode='auto') \n",
    "model.fit(x1, y, epochs= 100, batch_size=1, verbose=1, callbacks=[early_stopping]) \n",
    "\n",
    "#4.평가예측\n",
    "loss, mse = model.evaluate(x1, y, batch_size=1) \n",
    "print(loss, mse) \n",
    "\n",
    "\n",
    "x_input = array([[6.5,7.5,8.5], [50, 60, 70], [70,80,90], [100,110,120]])\n",
    "x_input = x_input.reshape(4,3,1)\n",
    "\n",
    "y_predict = model.predict(x_input)\n",
    "print(y_predict)\n"
   ]
  }
 ],
 "metadata": {
  "kernelspec": {
   "display_name": "Python 3",
   "language": "python",
   "name": "python3"
  },
  "language_info": {
   "codemirror_mode": {
    "name": "ipython",
    "version": 3
   },
   "file_extension": ".py",
   "mimetype": "text/x-python",
   "name": "python",
   "nbconvert_exporter": "python",
   "pygments_lexer": "ipython3",
   "version": "3.7.3"
  }
 },
 "nbformat": 4,
 "nbformat_minor": 2
}
