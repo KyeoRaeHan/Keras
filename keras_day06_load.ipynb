{
 "cells": [
  {
   "cell_type": "code",
   "execution_count": null,
   "metadata": {},
   "outputs": [],
   "source": [
    "import numpy as np\n",
    "\n",
    "#1. 데이터 전처리\n",
    "x = np.array([range(1, 101), range(101, 201), range(301,401)])\n",
    "y = np.array([range(101, 201)])\n",
    "\n",
    "x = np.transpose(x) # (100,3)\n",
    "y = np.transpose(y)  # (100,1)\n",
    "\n",
    "   \n",
    "from sklearn.model_selection import train_test_split\n",
    "\n",
    "x_train, x_test, y_train, y_test = train_test_split(x, y, train_size = 0.6, random_state=66, shuffle = False)\n",
    "x_val, x_test, y_val, y_test = train_test_split(x_test, y_test, test_size = 0.5, random_state=66, shuffle = False) \n",
    "# train : validation : test = 6 : 2 : 2\n",
    "#train,test,val data의 값이 '반드시' 안겹치게 하기\n",
    "\n",
    "\n",
    "# 2. 모델구성\n",
    "from keras.models import load_model, Sequential, Model\n",
    "from keras.layers import Dense, Input\n",
    "from keras.layers.merge import concatenate, Add\n",
    "\n",
    "model = Sequential()\n",
    "\n",
    "model = load_model(\"./save/savetest01.h5\")\n",
    "\n",
    "model.add(Dense(10, name='samsung1'))\n",
    "model.add(Dense(10, name='samsung2')) \n",
    "model.add(Dense(10, name='samsung3')) \n",
    "\n",
    "#load한 model에 추가로 모델 이어붙이기\n",
    "\n",
    "#3. 모델 훈련\n",
    "model.compile(loss = 'mse', optimizer = 'adam', metrics = ['mse'])\n",
    "\n",
    "from keras.callbacks import EarlyStopping, TensorBoard\n",
    "tb_hist = TensorBoard(log_dir = './graph', histogram_freq=0, write_graph=True, write_images=True)\n",
    "early_stopping = EarlyStopping(monitor='loss', patience=30, mode='auto')\n",
    "model.fit(x_train, y_train, epochs= 100, batch_size=1, verbose=2, validation_data=(x_val, y_val), callbacks=[early_stopping, tb_hist]) \n",
    "\n",
    "\n",
    "#4.모델 평가 및 예측\n",
    "loss, mse = model.evaluate(x_test, y_test, batch_size=1)\n",
    "print('mse : ', mse)\n",
    "\n",
    "x_prd = np.array([[201,202,203],[204, 205, 206], [207, 208, 209]])\n",
    "x_prd = np.transpose(x_prd)\n",
    "y_prd = model.predict(x_prd, batch_size=1) \n",
    "\n",
    "print(y_prd)"
   ]
  }
 ],
 "metadata": {
  "kernelspec": {
   "display_name": "Python 3",
   "language": "python",
   "name": "python3"
  },
  "language_info": {
   "codemirror_mode": {
    "name": "ipython",
    "version": 3
   },
   "file_extension": ".py",
   "mimetype": "text/x-python",
   "name": "python",
   "nbconvert_exporter": "python",
   "pygments_lexer": "ipython3",
   "version": "3.7.3"
  }
 },
 "nbformat": 4,
 "nbformat_minor": 2
}
