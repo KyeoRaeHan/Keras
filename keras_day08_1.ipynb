{
 "cells": [
  {
   "cell_type": "code",
   "execution_count": null,
   "metadata": {},
   "outputs": [
    {
     "name": "stderr",
     "output_type": "stream",
     "text": [
      "Using TensorFlow backend.\n"
     ]
    },
    {
     "name": "stdout",
     "output_type": "stream",
     "text": [
      "Downloading data from https://s3.amazonaws.com/img-datasets/mnist.npz\n",
      "11493376/11490434 [==============================] - 3s 0us/step\n",
      "(60000, 28, 28)\n",
      "(60000,)\n",
      "==================\n",
      "(60000, 10)\n",
      "WARNING:tensorflow:From C:\\Users\\user\\Anaconda3\\lib\\site-packages\\tensorflow\\python\\framework\\op_def_library.py:263: colocate_with (from tensorflow.python.framework.ops) is deprecated and will be removed in a future version.\n",
      "Instructions for updating:\n",
      "Colocations handled automatically by placer.\n",
      "_________________________________________________________________\n",
      "Layer (type)                 Output Shape              Param #   \n",
      "=================================================================\n",
      "conv2d_1 (Conv2D)            (None, 27, 27, 8)         40        \n",
      "_________________________________________________________________\n",
      "reshape_1 (Reshape)          (None, 729, 8)            0         \n",
      "_________________________________________________________________\n",
      "lstm_1 (LSTM)                (None, 16)                1600      \n",
      "_________________________________________________________________\n",
      "dense_1 (Dense)              (None, 10)                170       \n",
      "=================================================================\n",
      "Total params: 1,810\n",
      "Trainable params: 1,810\n",
      "Non-trainable params: 0\n",
      "_________________________________________________________________\n",
      "WARNING:tensorflow:From C:\\Users\\user\\Anaconda3\\lib\\site-packages\\tensorflow\\python\\ops\\math_ops.py:3066: to_int32 (from tensorflow.python.ops.math_ops) is deprecated and will be removed in a future version.\n",
      "Instructions for updating:\n",
      "Use tf.cast instead.\n",
      "Train on 48000 samples, validate on 12000 samples\n",
      "Epoch 1/100\n"
     ]
    }
   ],
   "source": [
    "from keras.datasets import mnist\n",
    "from keras.models import Sequential\n",
    "from keras.layers import Conv2D, Dense, Flatten, MaxPooling2D, LSTM, Reshape\n",
    "from keras.callbacks import EarlyStopping\n",
    "\n",
    "import numpy as np\n",
    "\n",
    "#1. 데이터 전처리\n",
    "(x_train, y_train), (x_test, y_test) = mnist.load_data() \n",
    "\n",
    "\n",
    "print(x_train.shape)\n",
    "print(y_train.shape)\n",
    "\n",
    "x_train = x_train.reshape(x_train.shape[0], 28, 28, 1).astype('float32')/255\n",
    "x_test = x_test.reshape(x_test.shape[0], 28, 28, 1).astype('float32')/255\n",
    "\n",
    "from keras.utils import np_utils\n",
    "y_train = np_utils.to_categorical(y_train)  \n",
    "x_test = np_utils.to_categorical(y_test)\n",
    "\n",
    "\n",
    "print('==================')\n",
    "print(y_train.shape) #(60000, 10)\n",
    "\n",
    "\n",
    "#2. 모델구성\n",
    "model  = Sequential()\n",
    "model.add(Conv2D(8, (2,2), strides=1, padding= 'valid', input_shape=(28,28,1)))  \n",
    "model.add(Reshape((27*27,8)))\n",
    "model.add(LSTM(16))\n",
    "model.add(Dense(10, activation = 'softmax')) \n",
    "\n",
    "model.summary()\n",
    "\n",
    "#3. 모델 훈련\n",
    "model.compile(loss='categorical_crossentropy', optimizer='adam', metrics=['accuracy'])\n",
    "early_stopping = EarlyStopping(monitor='loss', patience=20)\n",
    "model.fit(x_train, y_train, validation_split=0.2, epochs=100, batch_size=2, verbose=2, callbacks=[early_stopping])\n",
    "\n",
    "acc = model.evaluate(x_test, y_test)\n",
    "\n",
    "print(acc)"
   ]
  },
  {
   "cell_type": "code",
   "execution_count": null,
   "metadata": {},
   "outputs": [],
   "source": []
  }
 ],
 "metadata": {
  "kernelspec": {
   "display_name": "Python 3",
   "language": "python",
   "name": "python3"
  },
  "language_info": {
   "codemirror_mode": {
    "name": "ipython",
    "version": 3
   },
   "file_extension": ".py",
   "mimetype": "text/x-python",
   "name": "python",
   "nbconvert_exporter": "python",
   "pygments_lexer": "ipython3",
   "version": "3.7.3"
  }
 },
 "nbformat": 4,
 "nbformat_minor": 2
}
