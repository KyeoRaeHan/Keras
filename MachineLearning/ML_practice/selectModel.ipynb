{
 "cells": [
  {
   "cell_type": "code",
   "execution_count": null,
   "metadata": {},
   "outputs": [],
   "source": [
    "import pandas as pd       \n",
    "from sklearn.model_selection import train_test_split\n",
    "from sklearn.metrics import accuracy_score\n",
    "import warnings\n",
    "from sklearn.utils.testing import all_estimators\n",
    "\n",
    "import warnings\n",
    "warnings.filterwarnings('ignore')\n",
    "\n",
    "iris_data = pd.read_csv(\"C:\\\\Users\\\\user\\\\AI_vision\\\\data\\\\iris2.csv\", encoding=\"utf-8\")\n",
    "\n",
    "#붖꽃 데이터를 레이블과 입력 데이터로 분리하기\n",
    "y = iris_data.loc[:,\"Name\"]\n",
    "x = iris_data.loc[:,[\"SepalLength\", \"SepalWidth\", \"petalLength\", \"petalwidth\"]]\n",
    "\n",
    "#학습, 테스트로 분리하기\n",
    "warnings.filterwarnings('ignore')\n",
    "x_train, x_test, y_train, y_test = train_test_split(x, y, train_size=0.8, test_size=0.2, shuffle =True)\n",
    "\n",
    "\n",
    "#학습 전용과 테스트 전용 분리하기\n",
    "warnings.filterwarnings('ignore')\n",
    "allAlgorithms = all_estimators(type_filter = \"classifier\")\n",
    "\n",
    "print(allAlgorithms)\n",
    "print(len(allAlgorithms))\n",
    "print(type(allAlgorithms))\n",
    "\n",
    "for(name, algorithm) in allAlgorithms:\n",
    "    # 각 알고리즘 객체 생성하기\n",
    "    clf = algorithm()\n",
    "    \n",
    "    # 학습하고 평가하기\n",
    "    clf.fit(x_train, y_train)\n",
    "    y_pred = clf.predict(x_test)\n",
    "    print(name, \"의 정답률 = \", accuracy_score(y_test, y_pred)) "
   ]
  }
 ],
 "metadata": {
  "kernelspec": {
   "display_name": "Python 3",
   "language": "python",
   "name": "python3"
  },
  "language_info": {
   "codemirror_mode": {
    "name": "ipython",
    "version": 3
   },
   "file_extension": ".py",
   "mimetype": "text/x-python",
   "name": "python",
   "nbconvert_exporter": "python",
   "pygments_lexer": "ipython3",
   "version": "3.7.3"
  }
 },
 "nbformat": 4,
 "nbformat_minor": 2
}
